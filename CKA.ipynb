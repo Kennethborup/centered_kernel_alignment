{
 "cells": [
  {
   "cell_type": "markdown",
   "metadata": {},
   "source": [
    "# Centered Kernel Alignment (CKA)"
   ]
  },
  {
   "cell_type": "code",
   "execution_count": 33,
   "metadata": {},
   "outputs": [],
   "source": [
    "import numpy as np"
   ]
  },
  {
   "cell_type": "markdown",
   "metadata": {},
   "source": [
    "This notebook is heavily inspired by [Kornblith et al. (2019)](http://proceedings.mlr.press/v97/kornblith19a/kornblith19a.pdf) ([Code](https://cka-similarity.github.io/), [Video](https://www.youtube.com/watch?v=TBjdvjdS2KM)).\n",
    "\n",
    "The CKA is defined as the normalized Hilbert-Schmidt Independence Criterion (HSIC). Assume $X \\in \\mathbb{R}^{n \\times p_1}$ and $Y \\in \\mathbb{R}^{n \\times p_2}$ with centered columns. Then the HSIC is defined as\n",
    "$$\\mathrm{HSIC}(\\mathbf{K}, \\mathbf{L}) = \\frac{1}{(n - 1)^2} \\mathrm{tr}(\\mathbf{KHLH}),$$\n",
    "where $K_{ij} = k(\\mathbf{x}_i, \\mathbf{x}_j)$, $L_{ij} = l(\\mathbf{y}_i, \\mathbf{y}_j)$ and $\\mathbf{H} = \\mathbf{I}_n - \\frac{1}{n}\\mathbf{1}\\mathbf{1}^T$. Thus, the CKA is defined as\n",
    "$$\\mathrm{CKA}(\\mathbf{K}, \\mathbf{L}) = \\frac{\\mathrm{HSIC}(\\mathbf{K}, \\mathbf{L})}{\\sqrt{\\mathrm{HSIC}(\\mathbf{K}, \\mathbf{K})\\mathrm{HSIC}(\\mathbf{L}, \\mathbf{L})}},$$\n",
    "and using the linear kernel $k(\\mathbf{x}, \\mathbf{y}) = l(\\mathbf{x}, \\mathbf{y}) = \\mathbf{x}^T\\mathbf{y}$ is often reasonable according to [Kornblith et al. (2019)](http://proceedings.mlr.press/v97/kornblith19a/kornblith19a.pdf)."
   ]
  },
  {
   "cell_type": "code",
   "execution_count": 105,
   "metadata": {},
   "outputs": [],
   "source": [
    "def linear_kernel(X, Y):\n",
    "    return np.matmul(X, Y.T)\n",
    "\n",
    "def rbf(X, Y, sigma=None):\n",
    "    \"\"\"\n",
    "    Radial-Basis Function kernel for X and Y with bandwith chosen\n",
    "    from median if not specified.\n",
    "    \"\"\"\n",
    "    GX = np.dot(X, Y.T)\n",
    "    KX = np.diag(GX) - GX + (np.diag(GX) - GX).T\n",
    "    if sigma is None:\n",
    "        mdist = np.median(KX[KX != 0])\n",
    "        sigma = math.sqrt(mdist)\n",
    "    KX *= - 0.5 / (sigma * sigma)\n",
    "    KX = np.exp(KX)\n",
    "    return KX\n",
    "\n",
    "def HSIC(K, L):\n",
    "    \"\"\"\n",
    "    Calculate Hilbert-Schmidt Independence Criterion on K and L.\n",
    "    \"\"\"\n",
    "    n = K.shape[0]\n",
    "    H = np.identity(n) - (1./n) * np.ones((n, n))\n",
    "\n",
    "    KH = np.matmul(K, H)\n",
    "    LH = np.matmul(L, H)\n",
    "    return 1./((n-1)**2) * np.trace(np.matmul(KH, LH))\n",
    "\n",
    "def CKA(X, Y, kernel=None):\n",
    "    \"\"\"\n",
    "    Calculate Centered Kernel Alingment for X and Y. If no kernel\n",
    "    is specified, the linear kernel will be used.\n",
    "    \"\"\"\n",
    "    kernel = linear_kernel if kernel is None else kernel\n",
    "    \n",
    "    K = kernel(X, X)\n",
    "    L = kernel(Y, Y)\n",
    "        \n",
    "    hsic = HSIC(K, L)\n",
    "    varK = np.sqrt(HSIC(K, K))\n",
    "    varL = np.sqrt(HSIC(L, L))\n",
    "    return hsic / (varK * varL)"
   ]
  },
  {
   "cell_type": "markdown",
   "metadata": {},
   "source": [
    "We now simulate centered matrices $X$ and $Y$."
   ]
  },
  {
   "cell_type": "code",
   "execution_count": 102,
   "metadata": {},
   "outputs": [],
   "source": [
    "n = 100   # Samples\n",
    "p1 = 64   # Representation dim model 1\n",
    "p2 = 32   # Representation dim model 1\n",
    "\n",
    "# Generate X\n",
    "X = np.random.normal(size=(n, p1))\n",
    "Y = np.random.normal(size=(n, p2))\n",
    "\n",
    "# Center columns\n",
    "X = X - np.mean(X, 0)\n",
    "Y = Y - np.mean(Y, 0)"
   ]
  },
  {
   "cell_type": "markdown",
   "metadata": {},
   "source": [
    "Now we calculate the CKA on these both with the RBF and linear kernel. To verify the implementation we also calculate the CKA of each matrix with itself, expecting a value of $1$.\n",
    "Note, the bandwidth $\\sigma$ in the RBF kernel is chosen as the the squareroot of the median distance between samples following [Kornblith et al. (2019)](http://proceedings.mlr.press/v97/kornblith19a/kornblith19a.pdf)."
   ]
  },
  {
   "cell_type": "code",
   "execution_count": 103,
   "metadata": {},
   "outputs": [
    {
     "name": "stdout",
     "output_type": "stream",
     "text": [
      "Linear CKA, between X and Y: 0.28181\n",
      "Linear CKA, between X and X: 1.00000\n",
      "RBF Kernel CKA, between X and Y: 0.41206\n",
      "RBF Kernel CKA, between X and X: 1.00000\n"
     ]
    }
   ],
   "source": [
    "print(f'Linear CKA, between X and Y: {CKA(X, Y):1.5f}')\n",
    "print(f'Linear CKA, between X and X: {CKA(X, X):1.5f}')\n",
    "\n",
    "print(f'RBF Kernel CKA, between X and Y: {CKA(X, Y, rbf):1.5f}')\n",
    "print(f'RBF Kernel CKA, between X and X: {CKA(X, X, rbf):1.5f}')"
   ]
  },
  {
   "cell_type": "code",
   "execution_count": 104,
   "metadata": {},
   "outputs": [
    {
     "name": "stdout",
     "output_type": "stream",
     "text": [
      "1.24 ms ± 383 µs per loop (mean ± std. dev. of 7 runs, 1000 loops each)\n"
     ]
    }
   ],
   "source": [
    "%%timeit\n",
    "CKA(X, Y)"
   ]
  },
  {
   "cell_type": "markdown",
   "metadata": {},
   "source": [
    "The aim is to use the CKA metric to compare representations from different models.\n",
    "The procedure requires us to pass a dataset (e.g. CIFAR-10 through a model and register the representation (i.e. activation at each node) of some layer. The stacked representation is the $n \\times p$ matrix of $n$ samples and $p$-dimensional representations. One can both look at the similarities between samples and between features, but for the linear kernel these amount to the same result according to [Kornblith et al. (2019)](http://proceedings.mlr.press/v97/kornblith19a/kornblith19a.pdf)."
   ]
  },
  {
   "cell_type": "code",
   "execution_count": null,
   "metadata": {},
   "outputs": [],
   "source": []
  }
 ],
 "metadata": {
  "kernelspec": {
   "display_name": "Python 3",
   "language": "python",
   "name": "python3"
  },
  "language_info": {
   "codemirror_mode": {
    "name": "ipython",
    "version": 3
   },
   "file_extension": ".py",
   "mimetype": "text/x-python",
   "name": "python",
   "nbconvert_exporter": "python",
   "pygments_lexer": "ipython3",
   "version": "3.7.9"
  }
 },
 "nbformat": 4,
 "nbformat_minor": 4
}
